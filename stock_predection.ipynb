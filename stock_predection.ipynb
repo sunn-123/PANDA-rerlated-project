{
  "nbformat": 4,
  "nbformat_minor": 0,
  "metadata": {
    "colab": {
      "provenance": [],
      "authorship_tag": "ABX9TyMTXcb6D1+8SeCPWRJHI6EB",
      "include_colab_link": true
    },
    "kernelspec": {
      "name": "python3",
      "display_name": "Python 3"
    },
    "language_info": {
      "name": "python"
    }
  },
  "cells": [
    {
      "cell_type": "markdown",
      "metadata": {
        "id": "view-in-github",
        "colab_type": "text"
      },
      "source": [
        "<a href=\"https://colab.research.google.com/github/sunn-123/PANDA-rerlated-project/blob/main/stock_predection.ipynb\" target=\"_parent\"><img src=\"https://colab.research.google.com/assets/colab-badge.svg\" alt=\"Open In Colab\"/></a>"
      ]
    },
    {
      "cell_type": "code",
      "source": [
        "import pandas as pd\n",
        "import numpy as np\n",
        "from sklearn.model_selection import train_test_split\n",
        "from sklearn.preprocessing import StandardScaler\n",
        "from sklearn.ensemble import RandomForestClassifier, RandomForestRegressor\n",
        "from sklearn.metrics import classification_report, mean_squared_error\n",
        "\n",
        "# Load and clean data\n",
        "file_path ='/content/National_Stock_Exchange_of_India_Ltd.csv'\n",
        "df = pd.read_csv(file_path)\n",
        "\n",
        "# Clean numeric columns\n",
        "cols_to_clean = ['Open', 'High', 'Low', 'LTP', 'Chng', '% Chng', 'Volume (lacs)',\n",
        "                 'Turnover (crs.)', '52w H', '52w L', '365 d % chng', '30 d % chng']\n",
        "for col in cols_to_clean:\n",
        "    df[col] = pd.to_numeric(df[col].astype(str).str.replace(',', ''), errors='coerce')\n",
        "\n",
        "df.dropna(inplace=True)\n",
        "\n",
        "# Feature Engineering\n",
        "df['Price_Range'] = df['High'] - df['Low']\n",
        "df['Daily_Return'] = df['Chng'] / df['Open']\n",
        "df['Volatility'] = df['Price_Range'] / df['Open']\n",
        "\n",
        "# -----------------------------\n",
        "# 1. Price Direction Prediction (Up/Down)\n",
        "# -----------------------------\n",
        "df['Price_Up'] = (df['Chng'] > 0).astype(int)\n",
        "X1 = df[['Open', 'High', 'Low', 'Price_Range', 'Daily_Return', 'Volatility']]\n",
        "y1 = df['Price_Up']\n",
        "\n",
        "scaler1 = StandardScaler()\n",
        "X1_scaled = scaler1.fit_transform(X1)\n",
        "\n",
        "X1_train, X1_test, y1_train, y1_test = train_test_split(X1_scaled, y1, test_size=0.2, random_state=42)\n",
        "clf1 = RandomForestClassifier(random_state=42)\n",
        "clf1.fit(X1_train, y1_train)\n",
        "y1_pred = clf1.predict(X1_test)\n",
        "\n",
        "print(\"🔹 [1] Price Direction Prediction (Up/Down)\")\n",
        "print(classification_report(y1_test, y1_pred, zero_division=0))\n",
        "\n",
        "# -----------------------------\n",
        "# 2. Next Day Price Prediction (Regression)\n",
        "# -----------------------------\n",
        "X2 = X1  # reuse engineered features\n",
        "y2 = df['LTP']\n",
        "\n",
        "scaler2 = StandardScaler()\n",
        "X2_scaled = scaler2.fit_transform(X2)\n",
        "\n",
        "X2_train, X2_test, y2_train, y2_test = train_test_split(X2_scaled, y2, test_size=0.2, random_state=42)\n",
        "reg2 = RandomForestRegressor(random_state=42)\n",
        "reg2.fit(X2_train, y2_train)\n",
        "y2_pred = reg2.predict(X2_test)\n",
        "\n",
        "print(\"🔹 [2] Closing Price Prediction\")\n",
        "print(\"MSE:\", mean_squared_error(y2_test, y2_pred))\n",
        "\n",
        "# -----------------------------\n",
        "# 3. Volatility Prediction (Classification)\n",
        "# -----------------------------\n",
        "df['Volatile'] = ((df['High'] - df['Low']) > (0.03 * df['Open'])).astype(int)\n",
        "X3 = X1\n",
        "y3 = df['Volatile']\n",
        "\n",
        "scaler3 = StandardScaler()\n",
        "X3_scaled = scaler3.fit_transform(X3)\n",
        "\n",
        "X3_train, X3_test, y3_train, y3_test = train_test_split(X3_scaled, y3, test_size=0.2, random_state=42)\n",
        "clf3 = RandomForestClassifier(random_state=42)\n",
        "clf3.fit(X3_train, y3_train)\n",
        "y3_pred = clf3.predict(X3_test)\n",
        "\n",
        "print(\"🔹 [3] Volatility Prediction\")\n",
        "print(classification_report(y3_test, y3_pred, zero_division=0))\n",
        "\n",
        "# -----------------------------\n",
        "# 4. Volume Prediction (Regression)\n",
        "# -----------------------------\n",
        "X4 = X1\n",
        "y4 = df['Volume (lacs)']\n",
        "\n",
        "scaler4 = StandardScaler()\n",
        "X4_scaled = scaler4.fit_transform(X4)\n",
        "\n",
        "X4_train, X4_test, y4_train, y4_test = train_test_split(X4_scaled, y4, test_size=0.2, random_state=42)\n",
        "reg4 = RandomForestRegressor(random_state=42)\n",
        "reg4.fit(X4_train, y4_train)\n",
        "y4_pred = reg4.predict(X4_test)\n",
        "\n",
        "print(\"🔹 [4] Volume Prediction\")\n",
        "print(\"MSE:\", mean_squared_error(y4_test, y4_pred))\n"
      ],
      "metadata": {
        "colab": {
          "base_uri": "https://localhost:8080/"
        },
        "id": "nIOSrBddtM_E",
        "outputId": "8bc2bd84-d2f9-4a80-8708-8dec29aafa5f"
      },
      "execution_count": 9,
      "outputs": [
        {
          "output_type": "stream",
          "name": "stdout",
          "text": [
            "🔹 [1] Price Direction Prediction (Up/Down)\n",
            "              precision    recall  f1-score   support\n",
            "\n",
            "           0       0.90      1.00      0.95         9\n",
            "           1       0.00      0.00      0.00         1\n",
            "\n",
            "    accuracy                           0.90        10\n",
            "   macro avg       0.45      0.50      0.47        10\n",
            "weighted avg       0.81      0.90      0.85        10\n",
            "\n",
            "🔹 [2] Closing Price Prediction\n",
            "MSE: 25018958.129480194\n",
            "🔹 [3] Volatility Prediction\n",
            "              precision    recall  f1-score   support\n",
            "\n",
            "           0       1.00      1.00      1.00         4\n",
            "           1       1.00      1.00      1.00         6\n",
            "\n",
            "    accuracy                           1.00        10\n",
            "   macro avg       1.00      1.00      1.00        10\n",
            "weighted avg       1.00      1.00      1.00        10\n",
            "\n",
            "🔹 [4] Volume Prediction\n",
            "MSE: 4302.579326879002\n"
          ]
        }
      ]
    }
  ]
}